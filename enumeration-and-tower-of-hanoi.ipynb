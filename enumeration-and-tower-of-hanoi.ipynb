{
 "cells": [
  {
   "cell_type": "markdown",
   "metadata": {},
   "source": [
    "### Recursive function to enumerate number of ways\n",
    "In a question paper, there are questions, easy and hard questions. Ashok wants to solve the paper in such a way that at any\n",
    "point during the exam he should have attempted easy and hard questions where , and it is given that he attempts all the\n",
    "questions. You need to compute the total number of ways in which he can attempt the question paper. Write a recursive program to find the total number of ways. (The order of question number doesn’t matter)(See explanation of sample input for reference)\n"
   ]
  },
  {
   "cell_type": "code",
   "execution_count": 5,
   "metadata": {},
   "outputs": [
    {
     "data": {
      "text/plain": [
       "5049"
      ]
     },
     "execution_count": 5,
     "metadata": {},
     "output_type": "execute_result"
    }
   ],
   "source": [
    "def func(easy, hard):\n",
    "    \n",
    "    if easy == 0:\n",
    "        return 1\n",
    "    elif easy == hard:\n",
    "        return(func(easy-1,hard))\n",
    "    else:\n",
    "        return(func(easy-1,hard) + func(easy,hard-1))\n",
    "\n",
    "func(2,100)"
   ]
  },
  {
   "cell_type": "markdown",
   "metadata": {},
   "source": [
    "### Tower of Hanoi\n",
    "Here is the problem for the record: There are (1,2,..,n) disks stacked up on rod A in increasing order of size, i.e. 1 is the smallest disk placed on top and n is the largest disk placed at the bottom. The task is to move all the disks from rod A to rod B using rod C. At any time one can move a single disk from the top of a pile to the top of a pile on another rod. Also, at no time can a larger disk be placed on top of a smaller disk.\n"
   ]
  },
  {
   "cell_type": "code",
   "execution_count": 8,
   "metadata": {},
   "outputs": [
    {
     "name": "stdout",
     "output_type": "stream",
     "text": [
      "A B 1\n",
      "A C 2\n",
      "B C 1\n"
     ]
    }
   ],
   "source": [
    "def TowerOfHanoi(n , from_rod, to_rod, aux_rod):\n",
    "    if n == 1:\n",
    "        print(from_rod,to_rod, n)\n",
    "        return\n",
    "    TowerOfHanoi(n-1, from_rod, aux_rod, to_rod)\n",
    "    print(from_rod,to_rod,n)\n",
    "    TowerOfHanoi(n-1, aux_rod, to_rod, from_rod)\n",
    "         \n",
    "n = 2\n",
    "TowerOfHanoi(n, 'A', 'C', 'B') \n"
   ]
  }
 ],
 "metadata": {
  "kernelspec": {
   "display_name": "Python 3",
   "language": "python",
   "name": "python3"
  },
  "language_info": {
   "codemirror_mode": {
    "name": "ipython",
    "version": 3
   },
   "file_extension": ".py",
   "mimetype": "text/x-python",
   "name": "python",
   "nbconvert_exporter": "python",
   "pygments_lexer": "ipython3",
   "version": "3.7.4"
  }
 },
 "nbformat": 4,
 "nbformat_minor": 4
}
